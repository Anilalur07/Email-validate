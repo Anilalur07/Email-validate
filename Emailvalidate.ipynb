{
 "cells": [
  {
   "cell_type": "code",
   "execution_count": 1,
   "metadata": {},
   "outputs": [
    {
     "name": "stdout",
     "output_type": "stream",
     "text": [
      "anilalur9@gmail.com\n",
      "abhi123@gmail.com\n"
     ]
    }
   ],
   "source": [
    "import pandas as pd\n",
    "import re\n",
    "data={'name':['anil','abhi','nari','sagar','akash','ani','appy','sanju','pavan'],'age':[27,27,28,27,25,27,30,30,25],'qualification':[\n",
    "    'be','be','ba','iti','diploma','be','diploma','ba','bba'],'email':['anilalur9@gmail.com','abhi123@gmail.com','54rekhn','!fecd','wssc@hjjn','788','uijm','jnj','hxhhn'],'phone':[9900992817,89574902,784952,7845752,85,8904322417,8,8,9]}\n",
    "df=pd.DataFrame(data)\n",
    "df['name']=df['name'].str.capitalize()\n",
    "df['qualification']=df['qualification'].str.upper()\n",
    "for i in df['email']:\n",
    "    pattern=\"[a-z][a-zA-Z0-9\\-\\.\\_]+@[a-zA-Z]+\\.[a-zA-Z]{1,3}\"\n",
    "    if bool(re.match(pattern,i)):\n",
    "        print(i)\n",
    "    \n"
   ]
  },
  {
   "cell_type": "code",
   "execution_count": null,
   "metadata": {},
   "outputs": [],
   "source": []
  },
  {
   "cell_type": "code",
   "execution_count": null,
   "metadata": {},
   "outputs": [],
   "source": []
  }
 ],
 "metadata": {
  "kernelspec": {
   "display_name": "Python 3",
   "language": "python",
   "name": "python3"
  },
  "language_info": {
   "codemirror_mode": {
    "name": "ipython",
    "version": 3
   },
   "file_extension": ".py",
   "mimetype": "text/x-python",
   "name": "python",
   "nbconvert_exporter": "python",
   "pygments_lexer": "ipython3",
   "version": "3.7.3"
  }
 },
 "nbformat": 4,
 "nbformat_minor": 2
}
